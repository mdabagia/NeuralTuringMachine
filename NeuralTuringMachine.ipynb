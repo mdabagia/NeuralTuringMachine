{
 "cells": [
  {
   "cell_type": "code",
   "execution_count": 1,
   "metadata": {},
   "outputs": [
    {
     "data": {
      "text/plain": [
       "<torch._C.Generator at 0x1e840f1ee30>"
      ]
     },
     "execution_count": 1,
     "metadata": {},
     "output_type": "execute_result"
    }
   ],
   "source": [
    "import torch\n",
    "import torch.nn as nn\n",
    "import torch.nn.functional as F\n",
    "import torch.optim as optim\n",
    "import numpy as np\n",
    "\n",
    "torch.manual_seed(1)"
   ]
  },
  {
   "cell_type": "code",
   "execution_count": 4,
   "metadata": {},
   "outputs": [
    {
     "name": "stdout",
     "output_type": "stream",
     "text": [
      "tensor([[[-0.1728, -0.4397,  0.1527]],\n",
      "\n",
      "        [[-0.1477, -0.1548,  0.2824]],\n",
      "\n",
      "        [[-0.1569, -0.1602,  0.2466]],\n",
      "\n",
      "        [[ 0.0118,  0.0166,  0.4544]],\n",
      "\n",
      "        [[-0.0297, -0.0051,  0.3407]]], grad_fn=<StackBackward>)\n",
      "(tensor([[[-0.0297, -0.0051,  0.3407]]], grad_fn=<StackBackward>), tensor([[[-0.0733, -0.0106,  0.7060]]], grad_fn=<StackBackward>))\n"
     ]
    }
   ],
   "source": [
    "lstm = nn.LSTM(3, 3)\n",
    "\n",
    "\n",
    "inputs = [torch.randn(1, 3) for _ in range(5)]\n",
    "hidden = (torch.randn(1, 1, 3), torch.randn(1, 1, 3))\n",
    "for i in inputs:\n",
    "    out, hidden = lstm(i.view(1, 1, -1), hidden)\n",
    "    \n",
    "inputs = torch.cat(inputs).view(len(inputs), 1, -1)\n",
    "hidden = (torch.randn(1, 1, 3), torch.randn(1, 1, 3))\n",
    "out, hidden = lstm(inputs, hidden)\n",
    "print(out)\n",
    "print(hidden)\n"
   ]
  },
  {
   "cell_type": "code",
   "execution_count": 223,
   "metadata": {},
   "outputs": [],
   "source": [
    "class LSTMController(nn.Module):\n",
    "    \n",
    "    def __init__(self, num_inputs, num_outputs, num_layers):\n",
    "        super(LSTMController, self).__init__()\n",
    "        \n",
    "        self.num_inputs = num_inputs\n",
    "        self.num_outputs = num_outputs\n",
    "        self.num_layers = num_layers\n",
    "                        \n",
    "        self.lstm = nn.LSTM(input_size=self.num_inputs, hidden_size=self.num_outputs, num_layers=self.num_layers, bias=True)\n",
    "        \n",
    "        self.h_bias = nn.Parameter(torch.randn(self.num_layers, 1, self.num_outputs) * 0.05)\n",
    "        self.c_bias = nn.Parameter(torch.randn(self.num_layers, 1, self.num_outputs) * 0.05)\n",
    "                \n",
    "        self.reset()\n",
    "        \n",
    "    def reset(self):\n",
    "        for param in self.lstm.parameters():\n",
    "            if param.dim() == 1:\n",
    "                nn.init.constant_(param, 0)\n",
    "            else:\n",
    "                std = 5 / np.sqrt(self.num_inputs + self.num_outputs)\n",
    "                nn.init.uniform_(param, -std, std)\n",
    "    \n",
    "    def size(self):\n",
    "        return (self.num_inputs(), self.num_outputs())\n",
    "    \n",
    "    def create_new_state(self, batch_size):\n",
    "        lstm_h = self.h_bias.clone().repeat(1, batch_size, 1)\n",
    "        lstm_c = self.c_bias.clone().repeat(1, batch_size, 1)\n",
    "        return lstm_h, lstm_c\n",
    "    \n",
    "    def forward(self, inputs, prev_state):\n",
    "        outputs, new_state = self.lstm(inputs.unsqueeze(0), prev_state)\n",
    "        return outputs.squeeze(0), new_state\n",
    "        \n",
    "    \n",
    "def convolve_circularly(w, s):\n",
    "        t = torch.cat([w[-1:], w, w[:1]])\n",
    "        return F.conv1d(t.view(1, 1, -1), s.view(1, 1, -1)).view(-1)\n",
    "    \n",
    "class MemoryBlock(nn.Module):\n",
    "    \n",
    "    def __init__(self, num_cells, cell_size):\n",
    "        super(MemoryBlock, self).__init__()\n",
    "        self.num_cells = num_cells\n",
    "        self.cell_size = cell_size\n",
    "        self.register_buffer('mem_bias', torch.Tensor(num_cells, cell_size))\n",
    "        nn.init.constant_(self.mem_bias, 1e-6)\n",
    "               \n",
    "    def size(self):\n",
    "        return self.num_cells, self.cell_size\n",
    "    \n",
    "    def reset(self, batch_size):\n",
    "        self.batch_size = batch_size\n",
    "        self.memory = self.mem_bias.clone().repeat(batch_size, 1, 1)\n",
    "        \n",
    "    def read(self, read_weight):\n",
    "        return torch.matmul(read_weight.unsqueeze(1), self.memory).squeeze(1)\n",
    "    \n",
    "    def write(self, write_vec, erase_weight, add_vec):\n",
    "        self.memory = self.memory * (1 - torch.matmul(write_vec.unsqueeze(-1), erase_weight.unsqueeze(1))) + torch.matmul(write_vec.unsqueeze(-1), add_vec.unsqueeze(1))\n",
    "        \n",
    "    def address(self, key, key_weight, gating_factor, shift_weight, sharpening_factor, prev_weight):\n",
    "        content_weight = self._content_addressing(key, key_weight)\n",
    "        interp_weight = self._interpolate(prev_weight, content_weight, gating_factor)\n",
    "        rotated_weight = self._shift(interp_weight, shift_weight)\n",
    "        final_weight = self._sharpen(rotated_weight, sharpening_factor)\n",
    "        return final_weight\n",
    "        \n",
    "        \n",
    "    def _content_addressing(self, key, key_weight):\n",
    "        key = key.view(self.batch_size, 1, -1)\n",
    "        return F.softmax(key_weight * F.cosine_similarity(self.memory + 1e-16, key + 1e-16, dim=-1), dim=1)\n",
    "    \n",
    "    def _interpolate(self, prev_weight, content_weight, gating_factor):\n",
    "        return gating_factor * content_weight + (1 - gating_factor) * prev_weight\n",
    "    \n",
    "    def _shift(self, interp_weight, shift_weight):\n",
    "        device = torch.device(\"cuda:0\" if torch.cuda.is_available() else \"cpu\")\n",
    "        result = torch.zeros(interp_weight.size(), device=device)\n",
    "        for batch_num in range(self.batch_size):\n",
    "            result[batch_num] = convolve_circularly(interp_weight[batch_num], shift_weight[batch_num])\n",
    "        return result\n",
    "    \n",
    "    def _sharpen(self, rotated_weight, sharpening_factor):\n",
    "        sharpened_weight = rotated_weight ** sharpening_factor\n",
    "        return torch.div(rotated_weight, torch.sum(sharpened_weight, dim=1).view(-1, 1) + 1e-16)\n",
    "    \n",
    "        "
   ]
  },
  {
   "cell_type": "code",
   "execution_count": 224,
   "metadata": {},
   "outputs": [],
   "source": [
    "def split_cols(mat, lengths):\n",
    "    cum_lengths = np.cumsum([0] + lengths)\n",
    "    results = []\n",
    "    for s, e in zip(cum_lengths[:-1], cum_lengths[1:]):\n",
    "        results += [mat[:, s:e]]\n",
    "    return results\n",
    "\n",
    "class GenericHead(nn.Module):\n",
    "    \n",
    "    def __init__(self, memory, controller_size):\n",
    "        super(GenericHead, self).__init__()\n",
    "        self.memory = memory\n",
    "        self.num_cells, self.cell_size = self.memory.size()\n",
    "        self.controller_size = controller_size\n",
    "                \n",
    "    def _address_memory(self, key, key_weight, gating_factor, shift_weight, sharpening_factor, prev_weight):\n",
    "        key = key.clone()\n",
    "        key_weight = F.softplus(key_weight)\n",
    "        gating_factor = F.sigmoid(gating_factor)\n",
    "        shift_weight = F.softmax(shift_weight, dim=0)\n",
    "        sharpening_factor = 1 + F.softplus(sharpening_factor)\n",
    "        \n",
    "        return self.memory.address(key, key_weight, gating_factor, shift_weight, sharpening_factor, prev_weight)\n",
    "    \n",
    "    \n",
    "class ReadHead(GenericHead):\n",
    "        \n",
    "    def __init__(self, memory, controller_size):\n",
    "        super(ReadHead, self).__init__(memory, controller_size)\n",
    "\n",
    "        self.read_lengths = [self.cell_size, 1, 1, 3, 1]\n",
    "        self.read_input = nn.Linear(controller_size, sum(self.read_lengths))\n",
    "        self.reset()\n",
    "        \n",
    "    def create_new_state(self, batch_size):\n",
    "        device = torch.device(\"cuda:0\" if torch.cuda.is_available() else \"cpu\")\n",
    "        return torch.zeros(batch_size, self.num_cells, device=device)\n",
    "\n",
    "    def reset(self):\n",
    "        nn.init.xavier_uniform_(self.read_input.weight, gain=1.4)\n",
    "        nn.init.normal_(self.read_input.bias, std=0.01)\n",
    "\n",
    "    def forward(self, embeddings, prev_weight):\n",
    "        read_params = self.read_input(embeddings)\n",
    "\n",
    "        key, key_weight, gating_factor, shift_weight, sharpening_factor = split_cols(read_params, self.read_lengths)\n",
    "\n",
    "        address_weight = self._address_memory(key, key_weight, gating_factor, shift_weight, sharpening_factor, prev_weight)\n",
    "        return self.memory.read(address_weight), address_weight\n",
    "\n",
    "class WriteHead(GenericHead):\n",
    "\n",
    "    def __init__(self, memory, controller_size):\n",
    "        super(WriteHead, self).__init__(memory, controller_size)\n",
    "\n",
    "        self.write_lengths = [self.cell_size, 1, 1, 3, 1, self.cell_size, self.cell_size]\n",
    "        self.write_input = nn.Linear(controller_size, sum(self.write_lengths))\n",
    "        self.reset()\n",
    "\n",
    "    def reset(self):\n",
    "        nn.init.xavier_uniform_(self.write_input.weight, gain=1.4)\n",
    "        nn.init.normal_(self.write_input.bias, std=0.01)\n",
    "        \n",
    "    def create_new_state(self, batch_size):\n",
    "        device = torch.device(\"cuda:0\" if torch.cuda.is_available() else \"cpu\")\n",
    "        return torch.zeros(batch_size, self.num_cells, device=device)\n",
    "\n",
    "    def forward(self, embeddings, prev_weight):\n",
    "        write_params = self.write_input(embeddings)\n",
    "\n",
    "        key, key_weight, gating_factor, shift_weight, sharpening_factor, error_weight, add_vector = split_cols(write_params, self.write_lengths)\n",
    "\n",
    "        error_weight = F.sigmoid(error_weight)\n",
    "\n",
    "        address_weight = self._address_memory(key, key_weight, gating_factor, shift_weight, sharpening_factor, prev_weight)\n",
    "        self.memory.write(address_weight, error_weight, add_vector)\n",
    "        \n",
    "        return address_weight\n"
   ]
  },
  {
   "cell_type": "code",
   "execution_count": 225,
   "metadata": {},
   "outputs": [],
   "source": [
    "class NeuralTuringMachine(nn.Module):\n",
    "    def __init__(self, num_inputs, num_outputs, controller_size, num_cells, cell_size, num_read_heads, num_write_heads):\n",
    "        super(NeuralTuringMachine, self).__init__()\n",
    "        \n",
    "        self.num_inputs = num_inputs\n",
    "        self.num_outputs = num_outputs\n",
    "        self.controller_size = controller_size\n",
    "        self.num_cells = num_cells\n",
    "        self.cell_size = cell_size\n",
    "        self.num_read_heads = num_read_heads\n",
    "        self.num_write_heads = num_write_heads\n",
    "        \n",
    "        self.memory = MemoryBlock(num_cells, cell_size)\n",
    "        self.controller = LSTMController(num_inputs + cell_size * num_read_heads, controller_size[0], controller_size[1])\n",
    "        self.read_heads = nn.ModuleList([])\n",
    "        device = torch.device(\"cuda:0\" if torch.cuda.is_available() else \"cpu\")\n",
    "        self.init_read = []\n",
    "        for i in range(num_read_heads):\n",
    "            self.init_read += [torch.randn(1, cell_size, device=device) * 0.01]\n",
    "            self.register_buffer(\"read_bias{}\".format(i + 1), self.init_read[i].data)            \n",
    "            self.read_heads += [ReadHead(self.memory, self.controller_size[0])]\n",
    "                    \n",
    "        self.write_heads = nn.ModuleList([])\n",
    "        for i in range(num_write_heads):\n",
    "            self.write_heads += [WriteHead(self.memory, self.controller_size[0])]\n",
    "        \n",
    "        self.output_layer = nn.Linear(self.controller_size[0] + num_read_heads * self.cell_size, self.num_outputs)\n",
    "        self.reset()\n",
    "        \n",
    "    def reset(self):\n",
    "        nn.init.xavier_uniform_(self.output_layer.weight, gain=1)\n",
    "        nn.init.normal_(self.output_layer.bias, std=0.01)\n",
    "        \n",
    "    def create_new_state(self, batch_size):\n",
    "        device = torch.device(\"cuda:0\" if torch.cuda.is_available() else \"cpu\")\n",
    "        init_read = [r.clone().repeat(batch_size, 1) for r in self.init_read]\n",
    "        controller_state = self.controller.create_new_state(batch_size)\n",
    "        head_states = [head.create_new_state(batch_size) for head in self.read_heads] + [head.create_new_state(batch_size) for head in self.write_heads]\n",
    "            \n",
    "        return init_read, controller_state, head_states\n",
    "    \n",
    "    def init_sequence(self, batch_size):\n",
    "        self.batch_size = batch_size\n",
    "        self.memory.reset(batch_size)\n",
    "        self.prev_state = self.create_new_state(batch_size)\n",
    "\n",
    "    def forward(self, inputs=None):\n",
    "        device = torch.device(\"cuda:0\" if torch.cuda.is_available() else \"cpu\")\n",
    "\n",
    "        if inputs is None:\n",
    "            inputs = torch.zeros(self.batch_size, self.num_inputs, device=device)\n",
    "            \n",
    "        prev_reads, prev_controller_state, prev_head_states = self.prev_state\n",
    "        controller_output, controller_state = self.controller(torch.cat([inputs] + prev_reads, dim=1), prev_controller_state)\n",
    "        \n",
    "        reads = []\n",
    "        head_states = []\n",
    "        \n",
    "        for read_head, prev_head_state in zip(self.read_heads, prev_head_states):\n",
    "            r, head_state = read_head(controller_output, prev_head_state)\n",
    "            reads += [r]\n",
    "            head_states += [head_state]\n",
    "            \n",
    "        for write_head, prev_head_state in zip(self.write_heads, prev_head_states):\n",
    "            head_state = write_head(controller_output, prev_head_state)\n",
    "            head_states += [head_state]\n",
    "        \n",
    "        outputs = torch.sigmoid(self.output_layer(torch.cat([controller_output] + reads, dim=1)))\n",
    "        self.prev_state = (reads, controller_state, head_states)\n",
    "        \n",
    "        return outputs, self.prev_state\n",
    "        "
   ]
  },
  {
   "cell_type": "code",
   "execution_count": 244,
   "metadata": {},
   "outputs": [],
   "source": [
    "def get_copy_batch(batch_size, seq_len, num_bits):            \n",
    "        seq = torch.from_numpy(np.random.binomial(1, 0.5, (seq_len, batch_size, num_bits)))\n",
    "        input_seq = torch.zeros(seq_len + 1, batch_size, num_bits + 1)\n",
    "        input_seq[:seq_len, :, :num_bits] = seq\n",
    "        input_seq[seq_len, :, num_bits] = 1.0\n",
    "        target_seq = seq.clone()\n",
    "\n",
    "        return input_seq.float(), target_seq.float()\n",
    "        \n",
    "def clip_grads(ntm):\n",
    "    parameters = list(filter(lambda p: p.grad is not None, ntm.parameters()))\n",
    "    for param in parameters:\n",
    "        param.grad.data.clamp_(-10, 10)\n",
    "\n",
    "def train_batch(ntm, criterion, optimizer, input_batch, target_batch):\n",
    "    device = torch.device(\"cuda:0\" if torch.cuda.is_available() else \"cpu\")\n",
    "    optimizer.zero_grad()\n",
    "    input_seq_len = input_batch.size(0)\n",
    "    output_seq_len, batch_size, _ = target_batch.size()\n",
    "    \n",
    "    ntm.init_sequence(batch_size)\n",
    "    \n",
    "    for i in range(input_seq_len):\n",
    "        ntm(input_batch[i])\n",
    "        \n",
    "    output_batch = torch.zeros(target_batch.size(), device=device)\n",
    "    for i in range(output_seq_len):\n",
    "        output_batch[i], _ = ntm()\n",
    "        \n",
    "    batch_loss = criterion(output_batch, target_batch)\n",
    "    batch_loss.backward()\n",
    "    clip_grads(ntm)\n",
    "    optimizer.step()\n",
    "    \n",
    "    output_batch_bin = output_batch.clone().data.round_()    \n",
    "    \n",
    "    batch_cost = torch.sum(torch.abs(output_batch_bin - target_batch.data))\n",
    "    \n",
    "    return batch_loss.item(), batch_cost.item() / batch_size\n",
    "\n",
    "def evaluate(ntm, criterion, input_batch, target_batch):\n",
    "    device = torch.device(\"cuda:0\" if torch.cuda.is_available() else \"cpu\")\n",
    "    input_seq_len = input_batch.size(0)\n",
    "    output_seq_len, batch_size, _ = target_batch.size()\n",
    "    \n",
    "    ntm.init_sequence(batch_size)\n",
    "    \n",
    "    states = []\n",
    "    for i in range(input_seq_len):\n",
    "        _, state = ntm(input_batch[i])\n",
    "        states += [state]\n",
    "        \n",
    "    output_batch = torch.zeros(target_batch.size(), device=device)\n",
    "    for i in range(output_seq_len):\n",
    "        output_batch[i], state = ntm()\n",
    "        states += [state]\n",
    "        \n",
    "    batch_loss = criterion(output_batch, target_batch)\n",
    "    \n",
    "    output_batch_bin = output_batch.clone().data.round_()    \n",
    "    \n",
    "    batch_cost = torch.sum(torch.abs(output_batch_bin - target_batch.data))\n",
    "    \n",
    "    result = {\n",
    "        'loss': batch_loss.data.item(),\n",
    "        'cost': batch_cost / batch_size,\n",
    "        'output_batch': output_batch,\n",
    "        'output_batch_bin': output_batch_bin,\n",
    "        'states': states\n",
    "    }\n",
    "        \n",
    "    return result"
   ]
  },
  {
   "cell_type": "code",
   "execution_count": 256,
   "metadata": {},
   "outputs": [
    {
     "name": "stdout",
     "output_type": "stream",
     "text": [
      "Epoch #1: 0.28 seconds\n",
      "Epoch #2: 2.3e+03 seconds\n",
      "Epoch #3: 1.6e+04 seconds\n",
      "Epoch #4: 1.8e+04 seconds\n"
     ]
    },
    {
     "ename": "KeyboardInterrupt",
     "evalue": "",
     "output_type": "error",
     "traceback": [
      "\u001b[1;31m---------------------------------------------------------------------------\u001b[0m",
      "\u001b[1;31mKeyboardInterrupt\u001b[0m                         Traceback (most recent call last)",
      "\u001b[1;32m<ipython-input-256-49ac25a5b77c>\u001b[0m in \u001b[0;36m<module>\u001b[1;34m\u001b[0m\n\u001b[0;32m     30\u001b[0m     \u001b[0mbatch\u001b[0m \u001b[1;33m=\u001b[0m \u001b[0mget_copy_batch\u001b[0m\u001b[1;33m(\u001b[0m\u001b[0mbatch_size\u001b[0m\u001b[1;33m,\u001b[0m \u001b[0mnp\u001b[0m\u001b[1;33m.\u001b[0m\u001b[0mrandom\u001b[0m\u001b[1;33m.\u001b[0m\u001b[0mrandint\u001b[0m\u001b[1;33m(\u001b[0m\u001b[0mseq_len_min\u001b[0m\u001b[1;33m,\u001b[0m \u001b[0mseq_len_max\u001b[0m\u001b[1;33m)\u001b[0m\u001b[1;33m,\u001b[0m \u001b[0mnum_bits\u001b[0m\u001b[1;33m)\u001b[0m\u001b[1;33m\u001b[0m\u001b[1;33m\u001b[0m\u001b[0m\n\u001b[0;32m     31\u001b[0m     \u001b[0minput_batch\u001b[0m\u001b[1;33m,\u001b[0m \u001b[0mtarget_batch\u001b[0m \u001b[1;33m=\u001b[0m \u001b[0mbatch\u001b[0m\u001b[1;33m[\u001b[0m\u001b[1;36m0\u001b[0m\u001b[1;33m]\u001b[0m\u001b[1;33m.\u001b[0m\u001b[0mto\u001b[0m\u001b[1;33m(\u001b[0m\u001b[0mdevice\u001b[0m\u001b[1;33m)\u001b[0m\u001b[1;33m,\u001b[0m \u001b[0mbatch\u001b[0m\u001b[1;33m[\u001b[0m\u001b[1;36m1\u001b[0m\u001b[1;33m]\u001b[0m\u001b[1;33m.\u001b[0m\u001b[0mto\u001b[0m\u001b[1;33m(\u001b[0m\u001b[0mdevice\u001b[0m\u001b[1;33m)\u001b[0m\u001b[1;33m\u001b[0m\u001b[1;33m\u001b[0m\u001b[0m\n\u001b[1;32m---> 32\u001b[1;33m     \u001b[0mlosses\u001b[0m\u001b[1;33m[\u001b[0m\u001b[0mbatch_num\u001b[0m\u001b[1;33m]\u001b[0m\u001b[1;33m,\u001b[0m \u001b[0mcosts\u001b[0m\u001b[1;33m[\u001b[0m\u001b[0mbatch_num\u001b[0m\u001b[1;33m]\u001b[0m \u001b[1;33m=\u001b[0m \u001b[0mtrain_batch\u001b[0m\u001b[1;33m(\u001b[0m\u001b[0mntm\u001b[0m\u001b[1;33m,\u001b[0m \u001b[0mcriterion\u001b[0m\u001b[1;33m,\u001b[0m \u001b[0moptimizer\u001b[0m\u001b[1;33m,\u001b[0m \u001b[0minput_batch\u001b[0m\u001b[1;33m,\u001b[0m \u001b[0mtarget_batch\u001b[0m\u001b[1;33m)\u001b[0m\u001b[1;33m\u001b[0m\u001b[1;33m\u001b[0m\u001b[0m\n\u001b[0m\u001b[0;32m     33\u001b[0m     \u001b[1;32mif\u001b[0m \u001b[0mbatch_num\u001b[0m \u001b[1;33m%\u001b[0m \u001b[1;36m5000\u001b[0m \u001b[1;33m==\u001b[0m \u001b[1;36m0\u001b[0m\u001b[1;33m:\u001b[0m\u001b[1;33m\u001b[0m\u001b[1;33m\u001b[0m\u001b[0m\n\u001b[0;32m     34\u001b[0m         \u001b[0mtoc\u001b[0m \u001b[1;33m=\u001b[0m \u001b[0mtime\u001b[0m\u001b[1;33m.\u001b[0m\u001b[0mtime\u001b[0m\u001b[1;33m(\u001b[0m\u001b[1;33m)\u001b[0m\u001b[1;33m\u001b[0m\u001b[1;33m\u001b[0m\u001b[0m\n",
      "\u001b[1;32m<ipython-input-244-20173bbcc1f5>\u001b[0m in \u001b[0;36mtrain_batch\u001b[1;34m(ntm, criterion, optimizer, input_batch, target_batch)\u001b[0m\n\u001b[0;32m     29\u001b[0m \u001b[1;33m\u001b[0m\u001b[0m\n\u001b[0;32m     30\u001b[0m     \u001b[0mbatch_loss\u001b[0m \u001b[1;33m=\u001b[0m \u001b[0mcriterion\u001b[0m\u001b[1;33m(\u001b[0m\u001b[0moutput_batch\u001b[0m\u001b[1;33m,\u001b[0m \u001b[0mtarget_batch\u001b[0m\u001b[1;33m)\u001b[0m\u001b[1;33m\u001b[0m\u001b[1;33m\u001b[0m\u001b[0m\n\u001b[1;32m---> 31\u001b[1;33m     \u001b[0mbatch_loss\u001b[0m\u001b[1;33m.\u001b[0m\u001b[0mbackward\u001b[0m\u001b[1;33m(\u001b[0m\u001b[1;33m)\u001b[0m\u001b[1;33m\u001b[0m\u001b[1;33m\u001b[0m\u001b[0m\n\u001b[0m\u001b[0;32m     32\u001b[0m     \u001b[0mclip_grads\u001b[0m\u001b[1;33m(\u001b[0m\u001b[0mntm\u001b[0m\u001b[1;33m)\u001b[0m\u001b[1;33m\u001b[0m\u001b[1;33m\u001b[0m\u001b[0m\n\u001b[0;32m     33\u001b[0m     \u001b[0moptimizer\u001b[0m\u001b[1;33m.\u001b[0m\u001b[0mstep\u001b[0m\u001b[1;33m(\u001b[0m\u001b[1;33m)\u001b[0m\u001b[1;33m\u001b[0m\u001b[1;33m\u001b[0m\u001b[0m\n",
      "\u001b[1;32m~\\Anaconda3\\envs\\PyTorch\\lib\\site-packages\\torch\\tensor.py\u001b[0m in \u001b[0;36mbackward\u001b[1;34m(self, gradient, retain_graph, create_graph)\u001b[0m\n\u001b[0;32m    105\u001b[0m                 \u001b[0mproducts\u001b[0m\u001b[1;33m.\u001b[0m \u001b[0mDefaults\u001b[0m \u001b[0mto\u001b[0m\u001b[0;31m \u001b[0m\u001b[0;31m`\u001b[0m\u001b[0;31m`\u001b[0m\u001b[1;32mFalse\u001b[0m\u001b[0;31m`\u001b[0m\u001b[0;31m`\u001b[0m\u001b[1;33m.\u001b[0m\u001b[1;33m\u001b[0m\u001b[1;33m\u001b[0m\u001b[0m\n\u001b[0;32m    106\u001b[0m         \"\"\"\n\u001b[1;32m--> 107\u001b[1;33m         \u001b[0mtorch\u001b[0m\u001b[1;33m.\u001b[0m\u001b[0mautograd\u001b[0m\u001b[1;33m.\u001b[0m\u001b[0mbackward\u001b[0m\u001b[1;33m(\u001b[0m\u001b[0mself\u001b[0m\u001b[1;33m,\u001b[0m \u001b[0mgradient\u001b[0m\u001b[1;33m,\u001b[0m \u001b[0mretain_graph\u001b[0m\u001b[1;33m,\u001b[0m \u001b[0mcreate_graph\u001b[0m\u001b[1;33m)\u001b[0m\u001b[1;33m\u001b[0m\u001b[1;33m\u001b[0m\u001b[0m\n\u001b[0m\u001b[0;32m    108\u001b[0m \u001b[1;33m\u001b[0m\u001b[0m\n\u001b[0;32m    109\u001b[0m     \u001b[1;32mdef\u001b[0m \u001b[0mregister_hook\u001b[0m\u001b[1;33m(\u001b[0m\u001b[0mself\u001b[0m\u001b[1;33m,\u001b[0m \u001b[0mhook\u001b[0m\u001b[1;33m)\u001b[0m\u001b[1;33m:\u001b[0m\u001b[1;33m\u001b[0m\u001b[1;33m\u001b[0m\u001b[0m\n",
      "\u001b[1;32m~\\Anaconda3\\envs\\PyTorch\\lib\\site-packages\\torch\\autograd\\__init__.py\u001b[0m in \u001b[0;36mbackward\u001b[1;34m(tensors, grad_tensors, retain_graph, create_graph, grad_variables)\u001b[0m\n\u001b[0;32m     91\u001b[0m     Variable._execution_engine.run_backward(\n\u001b[0;32m     92\u001b[0m         \u001b[0mtensors\u001b[0m\u001b[1;33m,\u001b[0m \u001b[0mgrad_tensors\u001b[0m\u001b[1;33m,\u001b[0m \u001b[0mretain_graph\u001b[0m\u001b[1;33m,\u001b[0m \u001b[0mcreate_graph\u001b[0m\u001b[1;33m,\u001b[0m\u001b[1;33m\u001b[0m\u001b[1;33m\u001b[0m\u001b[0m\n\u001b[1;32m---> 93\u001b[1;33m         allow_unreachable=True)  # allow_unreachable flag\n\u001b[0m\u001b[0;32m     94\u001b[0m \u001b[1;33m\u001b[0m\u001b[0m\n\u001b[0;32m     95\u001b[0m \u001b[1;33m\u001b[0m\u001b[0m\n",
      "\u001b[1;31mKeyboardInterrupt\u001b[0m: "
     ]
    }
   ],
   "source": [
    "import matplotlib.pyplot as plt\n",
    "import time\n",
    "\n",
    "controller_width = 100\n",
    "controller_depth = 1\n",
    "num_read_heads = 1\n",
    "num_write_heads = 1\n",
    "num_bits = 8\n",
    "seq_len_min = 1\n",
    "seq_len_max = 20\n",
    "num_cells = 128\n",
    "cell_size = 8\n",
    "num_batches = 50000\n",
    "batch_size = 1\n",
    "\n",
    "device = torch.device(\"cuda:0\" if torch.cuda.is_available() else \"cpu\")\n",
    "\n",
    "ntm = NeuralTuringMachine(num_bits + 1, num_bits, (controller_width, controller_depth), num_cells, cell_size, num_read_heads, num_write_heads)\n",
    "criterion = nn.BCELoss()\n",
    "optimizer = optim.RMSprop(ntm.parameters(), momentum=0.9, alpha=0.95, lr=1e-4)\n",
    "ntm.to(device)\n",
    "criterion.to(device)\n",
    "\n",
    "losses = np.zeros(num_batches, dtype=float)\n",
    "costs = np.zeros(num_batches, dtype=float)"
   ]
  },
  {
   "cell_type": "code",
   "execution_count": 273,
   "metadata": {},
   "outputs": [
    {
     "name": "stdout",
     "output_type": "stream",
     "text": [
      "Epoch #7: 0.59 seconds\n",
      "Epoch #8: 2.3e+03 seconds\n",
      "Epoch #9: 4.6e+03 seconds\n",
      "Epoch #10: 1.4e+04 seconds\n"
     ]
    }
   ],
   "source": [
    "tic = time.time()\n",
    "\n",
    "for batch_num in range(30000, num_batches):\n",
    "    batch = get_copy_batch(batch_size, np.random.randint(seq_len_min, seq_len_max), num_bits)\n",
    "    input_batch, target_batch = batch[0].to(device), batch[1].to(device)\n",
    "    losses[batch_num], costs[batch_num] = train_batch(ntm, criterion, optimizer, input_batch, target_batch)\n",
    "    if batch_num % 5000 == 0:\n",
    "        toc = time.time()\n",
    "        print(\"Epoch #{}: {:.2} seconds\".format(batch_num // 5000 + 1, toc - tic))\n",
    "    \n",
    "toc = time.time()\n",
    "    "
   ]
  },
  {
   "cell_type": "code",
   "execution_count": 274,
   "metadata": {},
   "outputs": [
    {
     "data": {
      "text/plain": [
       "Text(0.5, 1.0, 'Time Elapsed: 15794.602104663849 Seconds')"
      ]
     },
     "execution_count": 274,
     "metadata": {},
     "output_type": "execute_result"
    },
    {
     "data": {
      "image/png": "[encoded data removed]",
      "text/plain": [
       "<Figure size 432x288 with 1 Axes>"
      ]
     },
     "metadata": {
      "needs_background": "light"
     },
     "output_type": "display_data"
    }
   ],
   "source": [
    "plt.plot(costs)\n",
    "plt.title('Time Elapsed: {} Seconds'.format(toc - tic))"
   ]
  },
  {
   "cell_type": "code",
   "execution_count": 292,
   "metadata": {},
   "outputs": [
    {
     "ename": "RuntimeError",
     "evalue": "CUDA error: unknown error",
     "output_type": "error",
     "traceback": [
      "\u001b[1;31m---------------------------------------------------------------------------\u001b[0m",
      "\u001b[1;31mRuntimeError\u001b[0m                              Traceback (most recent call last)",
      "\u001b[1;32m<ipython-input-292-aec40b595e72>\u001b[0m in \u001b[0;36m<module>\u001b[1;34m\u001b[0m\n\u001b[0;32m      1\u001b[0m \u001b[0mbatch\u001b[0m \u001b[1;33m=\u001b[0m \u001b[0mget_copy_batch\u001b[0m\u001b[1;33m(\u001b[0m\u001b[0mbatch_size\u001b[0m\u001b[1;33m,\u001b[0m \u001b[1;36m6\u001b[0m\u001b[1;33m,\u001b[0m \u001b[0mnum_bits\u001b[0m\u001b[1;33m)\u001b[0m\u001b[1;33m\u001b[0m\u001b[1;33m\u001b[0m\u001b[0m\n\u001b[1;32m----> 2\u001b[1;33m \u001b[0minput_batch\u001b[0m\u001b[1;33m,\u001b[0m \u001b[0mtarget_batch\u001b[0m \u001b[1;33m=\u001b[0m \u001b[0mbatch\u001b[0m\u001b[1;33m[\u001b[0m\u001b[1;36m0\u001b[0m\u001b[1;33m]\u001b[0m\u001b[1;33m.\u001b[0m\u001b[0mto\u001b[0m\u001b[1;33m(\u001b[0m\u001b[0mdevice\u001b[0m\u001b[1;33m)\u001b[0m\u001b[1;33m,\u001b[0m \u001b[0mbatch\u001b[0m\u001b[1;33m[\u001b[0m\u001b[1;36m1\u001b[0m\u001b[1;33m]\u001b[0m\u001b[1;33m.\u001b[0m\u001b[0mto\u001b[0m\u001b[1;33m(\u001b[0m\u001b[0mdevice\u001b[0m\u001b[1;33m)\u001b[0m\u001b[1;33m\u001b[0m\u001b[1;33m\u001b[0m\u001b[0m\n\u001b[0m\u001b[0;32m      3\u001b[0m \u001b[0mresult\u001b[0m \u001b[1;33m=\u001b[0m \u001b[0mevaluate\u001b[0m\u001b[1;33m(\u001b[0m\u001b[0mntm\u001b[0m\u001b[1;33m,\u001b[0m \u001b[0mcriterion\u001b[0m\u001b[1;33m,\u001b[0m \u001b[0minput_batch\u001b[0m\u001b[1;33m,\u001b[0m \u001b[0mtarget_batch\u001b[0m\u001b[1;33m)\u001b[0m\u001b[1;33m\u001b[0m\u001b[1;33m\u001b[0m\u001b[0m\n\u001b[0;32m      4\u001b[0m \u001b[1;33m\u001b[0m\u001b[0m\n\u001b[0;32m      5\u001b[0m \u001b[0mprint\u001b[0m\u001b[1;33m(\u001b[0m\u001b[0mresult\u001b[0m\u001b[1;33m[\u001b[0m\u001b[1;34m'cost'\u001b[0m\u001b[1;33m]\u001b[0m\u001b[1;33m.\u001b[0m\u001b[0mcpu\u001b[0m\u001b[1;33m(\u001b[0m\u001b[1;33m)\u001b[0m\u001b[1;33m.\u001b[0m\u001b[0mnumpy\u001b[0m\u001b[1;33m(\u001b[0m\u001b[1;33m)\u001b[0m\u001b[1;33m)\u001b[0m\u001b[1;33m\u001b[0m\u001b[1;33m\u001b[0m\u001b[0m\n",
      "\u001b[1;31mRuntimeError\u001b[0m: CUDA error: unknown error"
     ]
    }
   ],
   "source": [
    "batch = get_copy_batch(batch_size, 6, num_bits)\n",
    "input_batch, target_batch = batch[0].to(device), batch[1].to(device)\n",
    "result = evaluate(ntm, criterion, input_batch, target_batch)\n",
    "\n",
    "print(result['cost'].cpu().numpy())\n",
    "print(input_batch.cpu().numpy().squeeze())\n",
    "print(result['output_batch_bin'].cpu().numpy().squeeze())\n",
    "\n",
    "\n",
    "plt.imshow(np.hstack((input_batch.cpu().numpy().squeeze()[:,0:8].T, result['output_batch_bin'].cpu().numpy().squeeze().T)))"
   ]
  },
  {
   "cell_type": "code",
   "execution_count": 304,
   "metadata": {},
   "outputs": [
    {
     "ename": "RuntimeError",
     "evalue": "cuda runtime error (30) : unknown error at C:\\w\\1\\s\\tmp_conda_3.7_044431\\conda\\conda-bld\\pytorch_1556686009173\\work\\torch/csrc/generic/serialization.cpp:23",
     "output_type": "error",
     "traceback": [
      "\u001b[1;31m---------------------------------------------------------------------------\u001b[0m",
      "\u001b[1;31mRuntimeError\u001b[0m                              Traceback (most recent call last)",
      "\u001b[1;32m<ipython-input-304-5738a8054fc2>\u001b[0m in \u001b[0;36m<module>\u001b[1;34m\u001b[0m\n\u001b[0;32m      2\u001b[0m     \u001b[0mtorch\u001b[0m\u001b[1;33m.\u001b[0m\u001b[0msave\u001b[0m\u001b[1;33m(\u001b[0m\u001b[1;33m{\u001b[0m\u001b[1;34m'batch_num'\u001b[0m\u001b[1;33m:\u001b[0m \u001b[0mbatch_num\u001b[0m\u001b[1;33m,\u001b[0m \u001b[1;34m'model_state_dict'\u001b[0m\u001b[1;33m:\u001b[0m \u001b[0mmodel\u001b[0m\u001b[1;33m.\u001b[0m\u001b[0mstate_dict\u001b[0m\u001b[1;33m(\u001b[0m\u001b[1;33m)\u001b[0m\u001b[1;33m,\u001b[0m \u001b[1;34m'optimizer_state_dict'\u001b[0m\u001b[1;33m:\u001b[0m \u001b[0moptimizer\u001b[0m\u001b[1;33m.\u001b[0m\u001b[0mstate_dict\u001b[0m\u001b[1;33m(\u001b[0m\u001b[1;33m)\u001b[0m\u001b[1;33m,\u001b[0m \u001b[1;34m'losses'\u001b[0m\u001b[1;33m:\u001b[0m \u001b[0mlosses\u001b[0m\u001b[1;33m,\u001b[0m \u001b[1;34m'costs'\u001b[0m\u001b[1;33m:\u001b[0m \u001b[0mcosts\u001b[0m \u001b[1;33m}\u001b[0m\u001b[1;33m,\u001b[0m \u001b[1;34m'ntm-{}task-{}.pt'\u001b[0m\u001b[1;33m.\u001b[0m\u001b[0mformat\u001b[0m\u001b[1;33m(\u001b[0m\u001b[0mtask_name\u001b[0m\u001b[1;33m,\u001b[0m \u001b[0mbatch_num\u001b[0m\u001b[1;33m)\u001b[0m\u001b[1;33m)\u001b[0m\u001b[1;33m\u001b[0m\u001b[1;33m\u001b[0m\u001b[0m\n\u001b[0;32m      3\u001b[0m \u001b[1;33m\u001b[0m\u001b[0m\n\u001b[1;32m----> 4\u001b[1;33m \u001b[0mmake_checkpoint\u001b[0m\u001b[1;33m(\u001b[0m\u001b[0mntm\u001b[0m\u001b[1;33m,\u001b[0m \u001b[0moptimizer\u001b[0m\u001b[1;33m,\u001b[0m \u001b[0mlosses\u001b[0m\u001b[1;33m,\u001b[0m \u001b[0mcosts\u001b[0m\u001b[1;33m,\u001b[0m \u001b[1;34m'copy'\u001b[0m\u001b[1;33m,\u001b[0m \u001b[1;36m50000\u001b[0m\u001b[1;33m)\u001b[0m\u001b[1;33m\u001b[0m\u001b[1;33m\u001b[0m\u001b[0m\n\u001b[0m",
      "\u001b[1;32m<ipython-input-304-5738a8054fc2>\u001b[0m in \u001b[0;36mmake_checkpoint\u001b[1;34m(model, optimizer, losses, costs, task_name, batch_num)\u001b[0m\n\u001b[0;32m      1\u001b[0m \u001b[1;32mdef\u001b[0m \u001b[0mmake_checkpoint\u001b[0m\u001b[1;33m(\u001b[0m\u001b[0mmodel\u001b[0m\u001b[1;33m,\u001b[0m \u001b[0moptimizer\u001b[0m\u001b[1;33m,\u001b[0m \u001b[0mlosses\u001b[0m\u001b[1;33m,\u001b[0m \u001b[0mcosts\u001b[0m\u001b[1;33m,\u001b[0m \u001b[0mtask_name\u001b[0m\u001b[1;33m,\u001b[0m \u001b[0mbatch_num\u001b[0m\u001b[1;33m)\u001b[0m\u001b[1;33m:\u001b[0m\u001b[1;33m\u001b[0m\u001b[1;33m\u001b[0m\u001b[0m\n\u001b[1;32m----> 2\u001b[1;33m     \u001b[0mtorch\u001b[0m\u001b[1;33m.\u001b[0m\u001b[0msave\u001b[0m\u001b[1;33m(\u001b[0m\u001b[1;33m{\u001b[0m\u001b[1;34m'batch_num'\u001b[0m\u001b[1;33m:\u001b[0m \u001b[0mbatch_num\u001b[0m\u001b[1;33m,\u001b[0m \u001b[1;34m'model_state_dict'\u001b[0m\u001b[1;33m:\u001b[0m \u001b[0mmodel\u001b[0m\u001b[1;33m.\u001b[0m\u001b[0mstate_dict\u001b[0m\u001b[1;33m(\u001b[0m\u001b[1;33m)\u001b[0m\u001b[1;33m,\u001b[0m \u001b[1;34m'optimizer_state_dict'\u001b[0m\u001b[1;33m:\u001b[0m \u001b[0moptimizer\u001b[0m\u001b[1;33m.\u001b[0m\u001b[0mstate_dict\u001b[0m\u001b[1;33m(\u001b[0m\u001b[1;33m)\u001b[0m\u001b[1;33m,\u001b[0m \u001b[1;34m'losses'\u001b[0m\u001b[1;33m:\u001b[0m \u001b[0mlosses\u001b[0m\u001b[1;33m,\u001b[0m \u001b[1;34m'costs'\u001b[0m\u001b[1;33m:\u001b[0m \u001b[0mcosts\u001b[0m \u001b[1;33m}\u001b[0m\u001b[1;33m,\u001b[0m \u001b[1;34m'ntm-{}task-{}.pt'\u001b[0m\u001b[1;33m.\u001b[0m\u001b[0mformat\u001b[0m\u001b[1;33m(\u001b[0m\u001b[0mtask_name\u001b[0m\u001b[1;33m,\u001b[0m \u001b[0mbatch_num\u001b[0m\u001b[1;33m)\u001b[0m\u001b[1;33m)\u001b[0m\u001b[1;33m\u001b[0m\u001b[1;33m\u001b[0m\u001b[0m\n\u001b[0m\u001b[0;32m      3\u001b[0m \u001b[1;33m\u001b[0m\u001b[0m\n\u001b[0;32m      4\u001b[0m \u001b[0mmake_checkpoint\u001b[0m\u001b[1;33m(\u001b[0m\u001b[0mntm\u001b[0m\u001b[1;33m,\u001b[0m \u001b[0moptimizer\u001b[0m\u001b[1;33m,\u001b[0m \u001b[0mlosses\u001b[0m\u001b[1;33m,\u001b[0m \u001b[0mcosts\u001b[0m\u001b[1;33m,\u001b[0m \u001b[1;34m'copy'\u001b[0m\u001b[1;33m,\u001b[0m \u001b[1;36m50000\u001b[0m\u001b[1;33m)\u001b[0m\u001b[1;33m\u001b[0m\u001b[1;33m\u001b[0m\u001b[0m\n",
      "\u001b[1;32m~\\Anaconda3\\envs\\PyTorch\\lib\\site-packages\\torch\\serialization.py\u001b[0m in \u001b[0;36msave\u001b[1;34m(obj, f, pickle_module, pickle_protocol)\u001b[0m\n\u001b[0;32m    222\u001b[0m         \u001b[1;33m>>\u001b[0m\u001b[1;33m>\u001b[0m \u001b[0mtorch\u001b[0m\u001b[1;33m.\u001b[0m\u001b[0msave\u001b[0m\u001b[1;33m(\u001b[0m\u001b[0mx\u001b[0m\u001b[1;33m,\u001b[0m \u001b[0mbuffer\u001b[0m\u001b[1;33m)\u001b[0m\u001b[1;33m\u001b[0m\u001b[1;33m\u001b[0m\u001b[0m\n\u001b[0;32m    223\u001b[0m     \"\"\"\n\u001b[1;32m--> 224\u001b[1;33m     \u001b[1;32mreturn\u001b[0m \u001b[0m_with_file_like\u001b[0m\u001b[1;33m(\u001b[0m\u001b[0mf\u001b[0m\u001b[1;33m,\u001b[0m \u001b[1;34m\"wb\"\u001b[0m\u001b[1;33m,\u001b[0m \u001b[1;32mlambda\u001b[0m \u001b[0mf\u001b[0m\u001b[1;33m:\u001b[0m \u001b[0m_save\u001b[0m\u001b[1;33m(\u001b[0m\u001b[0mobj\u001b[0m\u001b[1;33m,\u001b[0m \u001b[0mf\u001b[0m\u001b[1;33m,\u001b[0m \u001b[0mpickle_module\u001b[0m\u001b[1;33m,\u001b[0m \u001b[0mpickle_protocol\u001b[0m\u001b[1;33m)\u001b[0m\u001b[1;33m)\u001b[0m\u001b[1;33m\u001b[0m\u001b[1;33m\u001b[0m\u001b[0m\n\u001b[0m\u001b[0;32m    225\u001b[0m \u001b[1;33m\u001b[0m\u001b[0m\n\u001b[0;32m    226\u001b[0m \u001b[1;33m\u001b[0m\u001b[0m\n",
      "\u001b[1;32m~\\Anaconda3\\envs\\PyTorch\\lib\\site-packages\\torch\\serialization.py\u001b[0m in \u001b[0;36m_with_file_like\u001b[1;34m(f, mode, body)\u001b[0m\n\u001b[0;32m    147\u001b[0m         \u001b[0mf\u001b[0m \u001b[1;33m=\u001b[0m \u001b[0mopen\u001b[0m\u001b[1;33m(\u001b[0m\u001b[0mf\u001b[0m\u001b[1;33m,\u001b[0m \u001b[0mmode\u001b[0m\u001b[1;33m)\u001b[0m\u001b[1;33m\u001b[0m\u001b[1;33m\u001b[0m\u001b[0m\n\u001b[0;32m    148\u001b[0m     \u001b[1;32mtry\u001b[0m\u001b[1;33m:\u001b[0m\u001b[1;33m\u001b[0m\u001b[1;33m\u001b[0m\u001b[0m\n\u001b[1;32m--> 149\u001b[1;33m         \u001b[1;32mreturn\u001b[0m \u001b[0mbody\u001b[0m\u001b[1;33m(\u001b[0m\u001b[0mf\u001b[0m\u001b[1;33m)\u001b[0m\u001b[1;33m\u001b[0m\u001b[1;33m\u001b[0m\u001b[0m\n\u001b[0m\u001b[0;32m    150\u001b[0m     \u001b[1;32mfinally\u001b[0m\u001b[1;33m:\u001b[0m\u001b[1;33m\u001b[0m\u001b[1;33m\u001b[0m\u001b[0m\n\u001b[0;32m    151\u001b[0m         \u001b[1;32mif\u001b[0m \u001b[0mnew_fd\u001b[0m\u001b[1;33m:\u001b[0m\u001b[1;33m\u001b[0m\u001b[1;33m\u001b[0m\u001b[0m\n",
      "\u001b[1;32m~\\Anaconda3\\envs\\PyTorch\\lib\\site-packages\\torch\\serialization.py\u001b[0m in \u001b[0;36m<lambda>\u001b[1;34m(f)\u001b[0m\n\u001b[0;32m    222\u001b[0m         \u001b[1;33m>>\u001b[0m\u001b[1;33m>\u001b[0m \u001b[0mtorch\u001b[0m\u001b[1;33m.\u001b[0m\u001b[0msave\u001b[0m\u001b[1;33m(\u001b[0m\u001b[0mx\u001b[0m\u001b[1;33m,\u001b[0m \u001b[0mbuffer\u001b[0m\u001b[1;33m)\u001b[0m\u001b[1;33m\u001b[0m\u001b[1;33m\u001b[0m\u001b[0m\n\u001b[0;32m    223\u001b[0m     \"\"\"\n\u001b[1;32m--> 224\u001b[1;33m     \u001b[1;32mreturn\u001b[0m \u001b[0m_with_file_like\u001b[0m\u001b[1;33m(\u001b[0m\u001b[0mf\u001b[0m\u001b[1;33m,\u001b[0m \u001b[1;34m\"wb\"\u001b[0m\u001b[1;33m,\u001b[0m \u001b[1;32mlambda\u001b[0m \u001b[0mf\u001b[0m\u001b[1;33m:\u001b[0m \u001b[0m_save\u001b[0m\u001b[1;33m(\u001b[0m\u001b[0mobj\u001b[0m\u001b[1;33m,\u001b[0m \u001b[0mf\u001b[0m\u001b[1;33m,\u001b[0m \u001b[0mpickle_module\u001b[0m\u001b[1;33m,\u001b[0m \u001b[0mpickle_protocol\u001b[0m\u001b[1;33m)\u001b[0m\u001b[1;33m)\u001b[0m\u001b[1;33m\u001b[0m\u001b[1;33m\u001b[0m\u001b[0m\n\u001b[0m\u001b[0;32m    225\u001b[0m \u001b[1;33m\u001b[0m\u001b[0m\n\u001b[0;32m    226\u001b[0m \u001b[1;33m\u001b[0m\u001b[0m\n",
      "\u001b[1;32m~\\Anaconda3\\envs\\PyTorch\\lib\\site-packages\\torch\\serialization.py\u001b[0m in \u001b[0;36m_save\u001b[1;34m(obj, f, pickle_module, pickle_protocol)\u001b[0m\n\u001b[0;32m    301\u001b[0m     \u001b[0mf\u001b[0m\u001b[1;33m.\u001b[0m\u001b[0mflush\u001b[0m\u001b[1;33m(\u001b[0m\u001b[1;33m)\u001b[0m\u001b[1;33m\u001b[0m\u001b[1;33m\u001b[0m\u001b[0m\n\u001b[0;32m    302\u001b[0m     \u001b[1;32mfor\u001b[0m \u001b[0mkey\u001b[0m \u001b[1;32min\u001b[0m \u001b[0mserialized_storage_keys\u001b[0m\u001b[1;33m:\u001b[0m\u001b[1;33m\u001b[0m\u001b[1;33m\u001b[0m\u001b[0m\n\u001b[1;32m--> 303\u001b[1;33m         \u001b[0mserialized_storages\u001b[0m\u001b[1;33m[\u001b[0m\u001b[0mkey\u001b[0m\u001b[1;33m]\u001b[0m\u001b[1;33m.\u001b[0m\u001b[0m_write_file\u001b[0m\u001b[1;33m(\u001b[0m\u001b[0mf\u001b[0m\u001b[1;33m,\u001b[0m \u001b[0m_should_read_directly\u001b[0m\u001b[1;33m(\u001b[0m\u001b[0mf\u001b[0m\u001b[1;33m)\u001b[0m\u001b[1;33m)\u001b[0m\u001b[1;33m\u001b[0m\u001b[1;33m\u001b[0m\u001b[0m\n\u001b[0m\u001b[0;32m    304\u001b[0m \u001b[1;33m\u001b[0m\u001b[0m\n\u001b[0;32m    305\u001b[0m \u001b[1;33m\u001b[0m\u001b[0m\n",
      "\u001b[1;31mRuntimeError\u001b[0m: cuda runtime error (30) : unknown error at C:\\w\\1\\s\\tmp_conda_3.7_044431\\conda\\conda-bld\\pytorch_1556686009173\\work\\torch/csrc/generic/serialization.cpp:23"
     ]
    }
   ],
   "source": [
    "def make_checkpoint(model, optimizer, losses, costs, task_name, batch_num):\n",
    "    torch.save({'batch_num': batch_num, 'model_state_dict': model.state_dict(), 'optimizer_state_dict': optimizer.state_dict(), 'losses': losses, 'costs': costs }, 'ntm-{}task-{}.pt'.format(task_name, batch_num))\n",
    "    \n",
    "make_checkpoint(ntm, optimizer, losses, costs, 'copy', 50000)"
   ]
  },
  {
   "cell_type": "code",
   "execution_count": 299,
   "metadata": {},
   "outputs": [
    {
     "data": {
      "text/plain": [
       "'ntm-copytask-50000.pt'"
      ]
     },
     "execution_count": 299,
     "metadata": {},
     "output_type": "execute_result"
    }
   ],
   "source": [
    "'ntm-{}task-{}.pt'.format('copy', 50000)"
   ]
  }
 ],
 "metadata": {
  "kernelspec": {
   "display_name": "Python 3",
   "language": "python",
   "name": "python3"
  },
  "language_info": {
   "codemirror_mode": {
    "name": "ipython",
    "version": 3
   },
   "file_extension": ".py",
   "mimetype": "text/x-python",
   "name": "python",
   "nbconvert_exporter": "python",
   "pygments_lexer": "ipython3",
   "version": "3.7.3"
  }
 },
 "nbformat": 4,
 "nbformat_minor": 2
}
